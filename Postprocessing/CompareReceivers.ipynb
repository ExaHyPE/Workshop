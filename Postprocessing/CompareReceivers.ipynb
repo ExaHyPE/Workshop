{
 "cells": [
  {
   "cell_type": "code",
   "execution_count": null,
   "metadata": {},
   "outputs": [],
   "source": [
    "import pandas as pd\n",
    "import matplotlib.pyplot as plt\n",
    "import numpy as np\n",
    "from math import sqrt"
   ]
  },
  {
   "cell_type": "code",
   "execution_count": null,
   "metadata": {},
   "outputs": [],
   "source": [
    "def plotReceivers(rec1,rec2,var_array):\n",
    "    fig,ax= plt.subplots(len(var_array),1,figsize=(10,5*len(var_array)))\n",
    "    if type(ax) != type(np.ndarray((1))):\n",
    "        ax = [ax]\n",
    "            \n",
    "    for i in range(0,len(var_array)):\n",
    "        ax[i].plot(rec1[\"time\"],rec1[var_array[i]],label=\"ExaSeis\")\n",
    "        ax[i].plot(rec2[\"time\"],rec2[var_array[i]],label=\"Receiver\")\n",
    "        ax[i].legend()\n",
    "    plt.show()\n",
    "    "
   ]
  },
  {
   "cell_type": "code",
   "execution_count": null,
   "metadata": {},
   "outputs": [],
   "source": [
    "def readAcousticsReceiver(path):\n",
    "    return readReceiver(path,[\"time\",\"time1\",\"p\",\"u\",\"v\",\"rho\",\"c\"])\n",
    "\n",
    "def readElasticsReceiver(path):\n",
    "    return readReceiver(path,[\"time\",\"time1\",\"u\",\"v\",\"sigma_xx\",\"sigma_yy\",\"sigma_xy\"])\n",
    "\n",
    "def readReceiver(path,columns):\n",
    "    rec = pd.read_csv(path)\n",
    "    rename_map = { rec.columns[i]:columns[i] for i in range(len(columns)) }\n",
    "    rec = rec.rename(columns = rename_map)\n",
    "    return rec"
   ]
  },
  {
   "cell_type": "markdown",
   "metadata": {},
   "source": [
    "# Task 0 Acoustics"
   ]
  },
  {
   "cell_type": "code",
   "execution_count": null,
   "metadata": {},
   "outputs": [],
   "source": [
    "#set the absolute path to the receiver you want to plot\n",
    "path_exa=\"Results/receiver.probe\"\n",
    "df_exa = readAcousticsReceiver(path_exa)\n",
    "\n",
    "path_ref=\"Reference/Acoustics/receiver.csv\"\n",
    "df_ref = pd.read_csv(path_ref)\n",
    "\n",
    "plotReceivers(df_exa,df_ref,var_array=[\"p\",\"u\",\"v\"])"
   ]
  },
  {
   "cell_type": "markdown",
   "metadata": {},
   "source": [
    "# Task 1 Elastics Gaussian"
   ]
  },
  {
   "cell_type": "code",
   "execution_count": null,
   "metadata": {},
   "outputs": [],
   "source": [
    "#set the absolute path to the receiver you want to plot\n",
    "path_exa=\"Results/Elastics/receiver.probe\"\n",
    "df_exa = readElasticsReceiver(path_exa)\n",
    "\n",
    "path_ref=\"Reference/Elastics/Gaussian/receiver.csv\"\n",
    "df_ref = pd.read_csv(path_ref)\n",
    "#df_ref[\"u\"] = 1\n",
    "plotReceivers(df_exa,df_ref,var_array=[\"u\",\"v\",\"sigma_xx\",\"sigma_yy\",\"sigma_xy\"])"
   ]
  },
  {
   "cell_type": "markdown",
   "metadata": {},
   "source": [
    "# Task 2 Homgeneous Half Space"
   ]
  },
  {
   "cell_type": "code",
   "execution_count": null,
   "metadata": {
    "scrolled": true
   },
   "outputs": [],
   "source": [
    "#set the absolute path to the receiver you want to plot\n",
    "for rec in range(1,4):\n",
    "    path_exa=\"Results/Elastics/receiver_{}.probe\".format(rec)\n",
    "    df_exa = readAcousticsReceiver(path_exa)\n",
    "\n",
    "    path_ref=\"Reference/Elastics/Hhs/receiver{}.csv\".format(rec)\n",
    "    df_ref = pd.read_csv(path_ref)\n",
    "\n",
    "    plotReceivers(df_exa,df_ref,var_array=[\"u\",])"
   ]
  }
 ],
 "metadata": {
  "kernelspec": {
   "display_name": "Python 3",
   "language": "python",
   "name": "python3"
  },
  "language_info": {
   "codemirror_mode": {
    "name": "ipython",
    "version": 3
   },
   "file_extension": ".py",
   "mimetype": "text/x-python",
   "name": "python",
   "nbconvert_exporter": "python",
   "pygments_lexer": "ipython3",
   "version": "3.6.9"
  }
 },
 "nbformat": 4,
 "nbformat_minor": 4
}
